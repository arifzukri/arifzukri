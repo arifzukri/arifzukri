{
  "nbformat": 4,
  "nbformat_minor": 0,
  "metadata": {
    "colab": {
      "name": "ML Comp Arif.ipynb",
      "provenance": [],
      "collapsed_sections": [],
      "include_colab_link": true
    },
    "kernelspec": {
      "name": "python3",
      "display_name": "Python 3"
    },
    "language_info": {
      "name": "python"
    },
    "accelerator": "GPU"
  },
  "cells": [
    {
      "cell_type": "markdown",
      "metadata": {
        "id": "view-in-github",
        "colab_type": "text"
      },
      "source": [
        "<a href=\"https://colab.research.google.com/github/arifzukri/arifzukri/blob/main/ML_Comp_Arif.ipynb\" target=\"_parent\"><img src=\"https://colab.research.google.com/assets/colab-badge.svg\" alt=\"Open In Colab\"/></a>"
      ]
    },
    {
      "cell_type": "code",
      "metadata": {
        "id": "Z9tvqnjFfeca"
      },
      "source": [
        "!pip install keras-tuner -q\n",
        "!pip install optuna"
      ],
      "execution_count": null,
      "outputs": []
    },
    {
      "cell_type": "code",
      "metadata": {
        "id": "isuVQN0d9Y85"
      },
      "source": [
        "import numpy as np\n",
        "import pandas as pd\n",
        "from sklearn.model_selection import train_test_split\n",
        "import matplotlib.pyplot as plt\n",
        "from matplotlib.pyplot import figure\n",
        "import seaborn as sns\n",
        "from keras.preprocessing import sequence \n",
        "from keras.models import Sequential \n",
        "from keras.layers import Dense, Embedding \n",
        "from keras.layers import LSTM\n",
        "from keras_tuner import RandomSearch\n",
        "import tensorflow as tf\n",
        "from tensorflow import keras\n",
        "from tensorflow.keras import layers\n",
        "from keras_tuner.tuners import RandomSearch\n",
        "from keras_tuner.engine.hyperparameters import HyperParameters\n",
        "import keras_tuner as kerastuner\n",
        "import time\n",
        "import random as rn\n",
        "from sklearn import metrics\n",
        "import optuna\n"
      ],
      "execution_count": null,
      "outputs": []
    },
    {
      "cell_type": "code",
      "metadata": {
        "id": "cGcVTyWVdkgR"
      },
      "source": [
        "import os\n",
        "os.environ['PYTHONHASHSEED'] = '0'\n",
        "os.environ['CUDA_VISIBLE_DEVICES'] = ''\n",
        "np.random.seed(123)\n",
        "rn.seed(123)\n",
        "tf.random.set_seed(123)"
      ],
      "execution_count": null,
      "outputs": []
    },
    {
      "cell_type": "code",
      "metadata": {
        "id": "ZGT0tdo293XU"
      },
      "source": [
        "df = pd.read_csv('https://raw.githubusercontent.com/mystique1011/ML_competition/main/MEC_dataset/training_dataset.csv')"
      ],
      "execution_count": null,
      "outputs": []
    },
    {
      "cell_type": "code",
      "metadata": {
        "id": "Uoyc76GJApXv"
      },
      "source": [
        "df['dist_geo_sqrt'] =  np.sqrt(df['dist_geo'])\n",
        "df['dist_pop_sqrt'] =  np.sqrt(df['dist_pop'])\n",
        "df['oneway_length_sqrt'] =  np.sqrt(df['oneway_length'])\n",
        "df['area_reci_src'] =  1/df.area_src\n",
        "df['area_reci_dst'] =  1/df.area_dst"
      ],
      "execution_count": null,
      "outputs": []
    },
    {
      "cell_type": "code",
      "metadata": {
        "id": "21uwfXat1Kie"
      },
      "source": [
        "df.shape"
      ],
      "execution_count": null,
      "outputs": []
    },
    {
      "cell_type": "code",
      "metadata": {
        "id": "LE4F9EtgKxsq"
      },
      "source": [
        "df1 = df.drop(['la_name_dst.1','la_name_src.1'],axis=1)"
      ],
      "execution_count": null,
      "outputs": []
    },
    {
      "cell_type": "code",
      "metadata": {
        "id": "oQvNAoKayIU8"
      },
      "source": [
        "df1.shape"
      ],
      "execution_count": null,
      "outputs": []
    },
    {
      "cell_type": "code",
      "metadata": {
        "id": "Jeu2ThlfkUCx"
      },
      "source": [
        "features = ['sourceid','dstid','dow','area_reci_src','area_reci_dst','fastest_travel_time','maxspeed_traveltime','dist_geo_sqrt','oneway_length_sqrt','la_name_src','la_name_dst','population_density_src','population_density_dst','direction']\n",
        "X = df1[features]\n",
        "y = df1['mean_travel_time']\n",
        "\n",
        "X_train, X_test, y_train, y_test = train_test_split(X,y,test_size=0.2,random_state=123)"
      ],
      "execution_count": null,
      "outputs": []
    },
    {
      "cell_type": "code",
      "metadata": {
        "id": "cU6mA77a2TpE"
      },
      "source": [
        "X.head()"
      ],
      "execution_count": null,
      "outputs": []
    },
    {
      "cell_type": "code",
      "metadata": {
        "id": "TXYgVX5rmZis"
      },
      "source": [
        "X_train.shape\n",
        "X_test.shape"
      ],
      "execution_count": null,
      "outputs": []
    },
    {
      "cell_type": "code",
      "metadata": {
        "id": "Ewrkluzjmfml"
      },
      "source": [
        "y_train.shape\n",
        "y_test.shape"
      ],
      "execution_count": null,
      "outputs": []
    },
    {
      "cell_type": "code",
      "metadata": {
        "id": "6fTxQ0Wzm1ZS"
      },
      "source": [
        "len(X_train.columns)"
      ],
      "execution_count": null,
      "outputs": []
    },
    {
      "cell_type": "markdown",
      "metadata": {
        "id": "CxEfCyXeNWvM"
      },
      "source": [
        "# Model (ANN)"
      ]
    },
    {
      "cell_type": "markdown",
      "metadata": {
        "id": "7KomrWR46OVa"
      },
      "source": [
        "# Create Model"
      ]
    },
    {
      "cell_type": "markdown",
      "metadata": {
        "id": "wWjDyBS0UpkV"
      },
      "source": [
        "# Support Vector Regression"
      ]
    },
    {
      "cell_type": "code",
      "metadata": {
        "id": "ej_GTlTxUosk"
      },
      "source": [
        "from sklearn.svm import SVR"
      ],
      "execution_count": null,
      "outputs": []
    },
    {
      "cell_type": "code",
      "metadata": {
        "id": "trGnF_tKkArR"
      },
      "source": [
        "def run(trial):\n",
        "  degree = trial.suggest_int(\"degree\",6,10)\n",
        "  coef0 = trial.suggest_float(\"coef\",0,1)\n",
        "  tol = trial.suggest_float(\"tol\",1e-3,1)\n",
        "  C = trial.suggest_float(\"C\",1e-1,100)\n",
        "  epsilon = trial.suggest_float(\"epsilon\",1e-4,1)\n",
        "\n",
        "  trial_model = SVR(\n",
        "                kernel = 'poly',\n",
        "                degree = degree,\n",
        "                gamma = 'scale',\n",
        "                coef0 = coef0,\n",
        "                tol = tol,\n",
        "                C = C,\n",
        "                epsilon = epsilon,\n",
        "                shrinking = True,\n",
        "                cache_size = 200,\n",
        "                verbose = True,\n",
        "                max_iter =-1)\n",
        "\n",
        "  trial_model.fit(X_train,y_train)\n",
        "  \n",
        "  predictions = trial_model.predict(X_test)\n",
        "  mse = metrics.mean_squared_error(y_test,predictions)\n",
        "    \n",
        "  return mse"
      ],
      "execution_count": null,
      "outputs": []
    },
    {
      "cell_type": "code",
      "metadata": {
        "id": "_VGYFxhYhgUQ"
      },
      "source": [
        "study = optuna.create_study(direction=\"minimize\")\n",
        "study.optimize(run, n_trials=100)"
      ],
      "execution_count": null,
      "outputs": []
    },
    {
      "cell_type": "code",
      "metadata": {
        "id": "u9AU_iBln6ar"
      },
      "source": [
        "study.best_params"
      ],
      "execution_count": null,
      "outputs": []
    },
    {
      "cell_type": "code",
      "metadata": {
        "id": "kcNi83oORBjH"
      },
      "source": [
        "#poly kernel, 100 n_trial, mse=69131\n",
        "#{'degree': 6, 'coef': 0.993171654157324, 'tol': 0.31283963254316527, 'C': 99.54428462839196, 'epsilon': 0.668497756210735}"
      ],
      "execution_count": null,
      "outputs": []
    },
    {
      "cell_type": "code",
      "metadata": {
        "id": "UTY5arOeLhQQ"
      },
      "source": [
        "#poly kernel, 100 n_trial, mse=115926\n",
        "#{'C': 0.9983607825434719, 'coef': 0.9999527045602298, 'degree': 10, 'epsilon': 0.4931080277268556, 'tol': 0.7254521116988704}"
      ],
      "execution_count": null,
      "outputs": []
    },
    {
      "cell_type": "code",
      "metadata": {
        "id": "F9Jn1jFbHnLw"
      },
      "source": [
        "#poly kernel, 100 n_trial, mse=205271\n",
        "#{'C': 0.9997529324003172, 'coef': 0.9778269172087866, 'degree': 5, 'epsilon': 0.14717422307256925, 'tol': 0.7935926274355507}"
      ],
      "execution_count": null,
      "outputs": []
    },
    {
      "cell_type": "code",
      "metadata": {
        "id": "x4kZ6N9ftpG1"
      },
      "source": [
        "#poly kernel, 100 n_trial, mse=119451\n",
        "#{'C': 0.8687938956124598, 'coef0': 0.9990963737191921, 'degree': 10, 'epsilon': 0.004649773909768923, 'tol': 0.4986492791483438}"
      ],
      "execution_count": null,
      "outputs": []
    },
    {
      "cell_type": "code",
      "metadata": {
        "id": "xuDlxVjShSu1"
      },
      "source": [
        "params = {'C': 0.8687938956124598,\n",
        " 'coef0': 0.9990963737191921,\n",
        " 'degree': 10,\n",
        " 'epsilon': 0.004649773909768923,\n",
        " 'tol': 0.4986492791483438}\n",
        "sv = SVR(kernel = 'poly',\n",
        "                gamma = 'scale',\n",
        "                shrinking = True,\n",
        "                cache_size = 200,\n",
        "                verbose = False,\n",
        "                max_iter =-1,**params)\n",
        "\n",
        "sv.fit(X_train, y_train)\n",
        "SVR_predictions = sv.predict(X_test)\n",
        "\n",
        "print(\"MSE : \", metrics.mean_squared_error(y_test, SVR_predictions))"
      ],
      "execution_count": null,
      "outputs": []
    },
    {
      "cell_type": "code",
      "metadata": {
        "id": "L7HnKib-jMnQ"
      },
      "source": [
        ""
      ],
      "execution_count": null,
      "outputs": []
    },
    {
      "cell_type": "markdown",
      "metadata": {
        "id": "B9MgiLDzpGST"
      },
      "source": [
        "# Tuneable Model"
      ]
    },
    {
      "cell_type": "code",
      "metadata": {
        "id": "G40Cgi2tfay9"
      },
      "source": [
        "def run2 (trial):\n",
        "  h_layer = trial.susggest_int(\"h_layer\", 128, 1024)\n",
        "  o_layer = trial.suggest_int(\"o_layer\", 128, 1024)\n",
        "  learning_rate = trial.suggest(\"learning_rate\")"
      ],
      "execution_count": null,
      "outputs": []
    },
    {
      "cell_type": "code",
      "metadata": {
        "id": "IPj1MgmDn-8z"
      },
      "source": [
        "LOG_DIR = f\"{int(time.time())}\"\n",
        "initializer = tf.keras.initializers.GlorotNormal(seed=123)\n",
        "def build_model(hp):\n",
        "  inputs = keras.Input(shape=(14,), name=\"inputlayer\")\n",
        "  \n",
        "  for i in range(hp.Int('n_layers', 1, 3)):\n",
        "      x = layers.Dense(hp.Int(f'SRNN_{i}_units', min_value=128, max_value=1024, step=32), activation=\"relu\", kernel_initializer=initializer)(inputs)\n",
        "\n",
        "  outputs = layers.Dense(hp.Int('output_units', min_value=128, max_value=1024, step=32), activation=\"relu\", kernel_initializer=initializer, name=\"predictions\")(x)\n",
        "\n",
        "  tf.keras.regularizers.l2(0.01)\n",
        "  model = keras.Model(inputs=inputs, outputs=outputs)\n",
        "\n",
        "  opt = tf.keras.optimizers.Adam(learning_rate=0.01)\n",
        "  ls = tf.keras.losses.MeanSquaredError()\n",
        "  met = 'RootMeanSquaredError'\n",
        "\n",
        "  model.compile(optimizer=opt, loss=ls,metrics=[met])\n",
        "\n",
        "  return model"
      ],
      "execution_count": null,
      "outputs": []
    },
    {
      "cell_type": "code",
      "metadata": {
        "id": "xlo2QgwVdp5_"
      },
      "source": [
        "tuner = RandomSearch(\n",
        "    build_model,\n",
        "    objective = kerastuner.Objective(\"val_root_mean_squared_error\", direction=\"min\"),\n",
        "    max_trials = 3,\n",
        "    executions_per_trial = 5,\n",
        "    directory = LOG_DIR\n",
        ")\n",
        "\n",
        "tuner.search(x=X_train,\n",
        "             y=y_train,\n",
        "             epochs=10,\n",
        "             batch_size=32,\n",
        "             validation_data=(X_test,y_test))"
      ],
      "execution_count": null,
      "outputs": []
    },
    {
      "cell_type": "code",
      "metadata": {
        "id": "XxlpsCS3s-bv"
      },
      "source": [
        "tuner.results_summary()"
      ],
      "execution_count": null,
      "outputs": []
    },
    {
      "cell_type": "markdown",
      "metadata": {
        "id": "9BtFucAjpMi7"
      },
      "source": [
        "# First Model"
      ]
    },
    {
      "cell_type": "code",
      "metadata": {
        "id": "N3Gt6ngZMngO"
      },
      "source": [
        "initializer = tf.keras.initializers.GlorotNormal\n",
        "\n",
        "inputs = keras.Input(shape=(14,), name=\"digits\")\n",
        "x1 = layers.Dense(992, kernel_initializer=initializer, activation=\"relu\", name=\"dense_1\")(inputs)\n",
        "x2 = layers.Dense(736, kernel_initializer=initializer, activation=\"relu\", name=\"dense_2\")(x1)\n",
        "outputs = layers.Dense(160, kernel_initializer=initializer, activation=\"relu\", name=\"predictions\")(x2)\n",
        " \n",
        "tf.keras.regularizers.l2(l2=0.01)\n",
        "model = keras.Model(inputs=inputs, outputs=outputs)"
      ],
      "execution_count": null,
      "outputs": []
    },
    {
      "cell_type": "code",
      "metadata": {
        "id": "2Ia0IR8cHHfr"
      },
      "source": [
        "model.summary()"
      ],
      "execution_count": null,
      "outputs": []
    },
    {
      "cell_type": "markdown",
      "metadata": {
        "id": "1DW5Mpom6Erk"
      },
      "source": [
        "# Compile Model"
      ]
    },
    {
      "cell_type": "code",
      "metadata": {
        "id": "cX06_zl-6LWk"
      },
      "source": [
        "opt = tf.keras.optimizers.Adam(learning_rate=0.01)\n",
        "ls = tf.keras.losses.MeanSquaredError()\n",
        "met = 'RootMeanSquaredError'\n",
        "\n",
        "model.compile(optimizer=opt, loss=ls,metrics=[met])\n",
        "\n",
        "print(\"Fit model on training data\")\n",
        "history = model.fit(\n",
        "    X_train,\n",
        "    y_train,\n",
        "    epochs=100,\n",
        "    verbose=2,\n",
        "    validation_split=0.2,\n",
        "    validation_data=(X_test, y_test),\n",
        ")"
      ],
      "execution_count": null,
      "outputs": []
    },
    {
      "cell_type": "markdown",
      "metadata": {
        "id": "3Z_U7sY6f8e7"
      },
      "source": [
        "# Model Evaluation"
      ]
    },
    {
      "cell_type": "code",
      "metadata": {
        "id": "Y4-iSbe7L0nf"
      },
      "source": [
        "print('Evaluate on thest data')\n",
        "results = model.evaluate(X_test, y_test)\n",
        "print('test loss, test rmse: ', results)\n"
      ],
      "execution_count": null,
      "outputs": []
    },
    {
      "cell_type": "code",
      "metadata": {
        "id": "0bK4f4nfg8C8"
      },
      "source": [
        "print(history.history.keys())"
      ],
      "execution_count": null,
      "outputs": []
    },
    {
      "cell_type": "code",
      "metadata": {
        "id": "yiCywtuiU-5l"
      },
      "source": [
        "loss_train = history.history['loss']\n",
        "loss_val = history.history['val_loss']\n",
        "epochs = range(1,101)\n",
        "plt.plot(epochs, loss_train, 'g', label='Training loss')\n",
        "plt.plot(epochs, loss_val, 'b', label='validation loss')\n",
        "plt.title('Training and Validation loss')\n",
        "plt.xlabel('Epochs')\n",
        "plt.ylabel('Loss')\n",
        "plt.legend()\n",
        "plt.show()"
      ],
      "execution_count": null,
      "outputs": []
    },
    {
      "cell_type": "code",
      "metadata": {
        "id": "ro3aK5NDhcA5"
      },
      "source": [
        "rmse_train = history.history['root_mean_squared_error']\n",
        "rmse_val = history.history['val_root_mean_squared_error']\n",
        "epochs = range(1,101)\n",
        "plt.plot(epochs, rmse_train, 'g', label='Training rmse')\n",
        "plt.plot(epochs, rmse_val, 'b', label='validation rmse')\n",
        "plt.title('Training and rmse')\n",
        "plt.xlabel('Epochs')\n",
        "plt.ylabel('rmse')\n",
        "plt.legend()\n",
        "plt.show()"
      ],
      "execution_count": null,
      "outputs": []
    },
    {
      "cell_type": "code",
      "metadata": {
        "id": "04_o85-l0HtW"
      },
      "source": [
        "model.evaluate(\n",
        "    x=X_test,\n",
        "    y=y_test,\n",
        "    batch_size=None,\n",
        "    verbose=2,\n",
        "    sample_weight=None,\n",
        "    steps=None,\n",
        "    callbacks=None,\n",
        "    max_queue_size=10,\n",
        "    workers=1,\n",
        "    use_multiprocessing=False,\n",
        "    return_dict=False,\n",
        ")"
      ],
      "execution_count": null,
      "outputs": []
    }
  ]
}